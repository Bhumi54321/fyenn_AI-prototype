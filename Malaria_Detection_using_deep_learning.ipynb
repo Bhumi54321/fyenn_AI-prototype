{
  "metadata": {
    "kernelspec": {
      "display_name": "Python 3",
      "name": "python3"
    },
    "language_info": {
      "pygments_lexer": "ipython3",
      "nbconvert_exporter": "python",
      "version": "3.6.4",
      "file_extension": ".py",
      "codemirror_mode": {
        "name": "ipython",
        "version": 3
      },
      "name": "python",
      "mimetype": "text/x-python"
    },
    "colab": {
      "provenance": [],
      "gpuType": "T4"
    },
    "accelerator": "GPU"
  },
  "nbformat_minor": 0,
  "nbformat": 4,
  "cells": [
    {
      "cell_type": "code",
      "source": [
        "# import the libraries as shown below\n",
        "\n",
        "import numpy as np\n",
        "from glob import glob\n",
        "from PIL import Image\n",
        "import matplotlib.pyplot as plt\n",
        "from tensorflow.keras.models import Model\n",
        "from tensorflow.keras.models import Sequential\n",
        "from tensorflow.keras.models import load_model\n",
        "from tensorflow.keras.layers import MaxPooling2D\n",
        "from tensorflow.keras.preprocessing import image\n",
        "from tensorflow.keras.applications.vgg19 import VGG19\n",
        "from tensorflow.keras.applications.resnet50 import preprocess_input\n",
        "from tensorflow.keras.layers import Input, Lambda, Dense, Flatten,Conv2D\n",
        "from tensorflow.keras.preprocessing.image import ImageDataGenerator,load_img"
      ],
      "metadata": {
        "execution": {
          "iopub.status.busy": "2022-04-23T07:00:05.496216Z",
          "iopub.execute_input": "2022-04-23T07:00:05.496547Z",
          "iopub.status.idle": "2022-04-23T07:00:10.842112Z",
          "shell.execute_reply.started": "2022-04-23T07:00:05.496445Z",
          "shell.execute_reply": "2022-04-23T07:00:10.841266Z"
        },
        "trusted": true,
        "id": "zXyqA0zG5mqH"
      },
      "execution_count": 24,
      "outputs": []
    },
    {
      "cell_type": "code",
      "source": [
        "# re-size all the images to this\n",
        "IMAGE_SIZE = [224, 224]\n",
        "\n",
        "# # Storing the path of training and testing dataset\n",
        "# train_path = 'cell_images/Train'\n",
        "# valid_path = 'cell_images/Test'"
      ],
      "metadata": {
        "execution": {
          "iopub.status.busy": "2022-04-23T07:00:10.844924Z",
          "iopub.execute_input": "2022-04-23T07:00:10.845403Z",
          "iopub.status.idle": "2022-04-23T07:00:10.849032Z",
          "shell.execute_reply.started": "2022-04-23T07:00:10.845364Z",
          "shell.execute_reply": "2022-04-23T07:00:10.848317Z"
        },
        "trusted": true,
        "id": "py8r8fFc5mqH"
      },
      "execution_count": 25,
      "outputs": []
    },
    {
      "cell_type": "code",
      "source": [
        "# Import the Vgg 16 library as shown below and add preprocessing layer to the front of VGG\n",
        "# Here we will be using imagenet weights\n",
        "\n",
        "mobilnet = VGG19(input_shape=IMAGE_SIZE + [3], weights='imagenet', include_top=False)"
      ],
      "metadata": {
        "execution": {
          "iopub.status.busy": "2022-04-23T07:00:10.85016Z",
          "iopub.execute_input": "2022-04-23T07:00:10.850482Z",
          "iopub.status.idle": "2022-04-23T07:00:13.888996Z",
          "shell.execute_reply.started": "2022-04-23T07:00:10.85045Z",
          "shell.execute_reply": "2022-04-23T07:00:13.888108Z"
        },
        "trusted": true,
        "id": "FphIOHHw5mqI"
      },
      "execution_count": 26,
      "outputs": []
    },
    {
      "cell_type": "code",
      "source": [
        "# don't train existing weights\n",
        "for layer in mobilnet.layers:\n",
        "    layer.trainable = False"
      ],
      "metadata": {
        "execution": {
          "iopub.status.busy": "2022-04-23T07:00:13.890887Z",
          "iopub.execute_input": "2022-04-23T07:00:13.891088Z",
          "iopub.status.idle": "2022-04-23T07:00:13.898842Z",
          "shell.execute_reply.started": "2022-04-23T07:00:13.891064Z",
          "shell.execute_reply": "2022-04-23T07:00:13.897925Z"
        },
        "trusted": true,
        "id": "w1QMshPK5mqJ"
      },
      "execution_count": 27,
      "outputs": []
    },
    {
      "cell_type": "code",
      "source": [
        "# # useful for getting number of output classes\n",
        "# folders = glob('../input/malaria-dataset/Dataset/Train/*')"
      ],
      "metadata": {
        "execution": {
          "iopub.status.busy": "2022-04-23T07:00:13.899944Z",
          "iopub.execute_input": "2022-04-23T07:00:13.900246Z",
          "iopub.status.idle": "2022-04-23T07:00:13.908006Z",
          "shell.execute_reply.started": "2022-04-23T07:00:13.900211Z",
          "shell.execute_reply": "2022-04-23T07:00:13.907192Z"
        },
        "trusted": true,
        "id": "nc-rRKdy5mqJ"
      },
      "execution_count": 28,
      "outputs": []
    },
    {
      "cell_type": "code",
      "source": [
        "# useful for getting number of output classes\n",
        "folders = glob('../input/cell-images-for-detecting-malaria/cell_images/*')"
      ],
      "metadata": {
        "execution": {
          "iopub.status.busy": "2022-04-23T07:00:13.910298Z",
          "iopub.execute_input": "2022-04-23T07:00:13.912083Z",
          "iopub.status.idle": "2022-04-23T07:00:13.922539Z",
          "shell.execute_reply.started": "2022-04-23T07:00:13.912054Z",
          "shell.execute_reply": "2022-04-23T07:00:13.921913Z"
        },
        "trusted": true,
        "id": "icYz6LxY5mqK"
      },
      "execution_count": 29,
      "outputs": []
    },
    {
      "cell_type": "code",
      "source": [
        "folders = folders[:2]\n",
        "folders"
      ],
      "metadata": {
        "execution": {
          "iopub.status.busy": "2022-04-23T07:00:13.923752Z",
          "iopub.execute_input": "2022-04-23T07:00:13.923996Z",
          "iopub.status.idle": "2022-04-23T07:00:13.932258Z",
          "shell.execute_reply.started": "2022-04-23T07:00:13.923965Z",
          "shell.execute_reply": "2022-04-23T07:00:13.9314Z"
        },
        "trusted": true,
        "id": "Ygg24tmc5mqK",
        "colab": {
          "base_uri": "https://localhost:8080/"
        },
        "outputId": "9fab726e-d7eb-46a1-8f73-4b8feed53466"
      },
      "execution_count": 30,
      "outputs": [
        {
          "output_type": "execute_result",
          "data": {
            "text/plain": [
              "['../input/cell-images-for-detecting-malaria/cell_images/Uninfected',\n",
              " '../input/cell-images-for-detecting-malaria/cell_images/Parasitized']"
            ]
          },
          "metadata": {},
          "execution_count": 30
        }
      ]
    },
    {
      "cell_type": "code",
      "source": [
        "img = Image. open(\"../input/malaria-dataset/Dataset/Test/Uninfected/2.png\")\n",
        "img"
      ],
      "metadata": {
        "execution": {
          "iopub.status.busy": "2022-04-23T07:00:13.933783Z",
          "iopub.execute_input": "2022-04-23T07:00:13.934341Z",
          "iopub.status.idle": "2022-04-23T07:00:13.98175Z",
          "shell.execute_reply.started": "2022-04-23T07:00:13.934304Z",
          "shell.execute_reply": "2022-04-23T07:00:13.981092Z"
        },
        "trusted": true,
        "id": "PDe3MqR55mqL",
        "colab": {
          "base_uri": "https://localhost:8080/",
          "height": 147
        },
        "outputId": "7b0c79c0-94fe-4c87-dcc6-05500d5f62c0"
      },
      "execution_count": 31,
      "outputs": [
        {
          "output_type": "execute_result",
          "data": {
            "text/plain": [
              "<PIL.PngImagePlugin.PngImageFile image mode=RGB size=145x130>"
            ],
            "image/png": "[encoded data removed]"
          },
          "metadata": {},
          "execution_count": 31
        }
      ]
    },
    {
      "cell_type": "code",
      "source": [
        "img = Image. open(\"../input/malaria-dataset/Dataset/Test/Parasite/C39P4thinF_original_IMG_20150622_105554_cell_15.png\")\n",
        "img"
      ],
      "metadata": {
        "execution": {
          "iopub.status.busy": "2022-04-23T07:00:13.982752Z",
          "iopub.execute_input": "2022-04-23T07:00:13.983175Z",
          "iopub.status.idle": "2022-04-23T07:00:14.015126Z",
          "shell.execute_reply.started": "2022-04-23T07:00:13.983142Z",
          "shell.execute_reply": "2022-04-23T07:00:14.01448Z"
        },
        "trusted": true,
        "id": "86KwXVTe5mqL",
        "colab": {
          "base_uri": "https://localhost:8080/",
          "height": 153
        },
        "outputId": "78ae6282-0930-4084-8e25-ebf77934956d"
      },
      "execution_count": 32,
      "outputs": [
        {
          "output_type": "execute_result",
          "data": {
            "text/plain": [
              "<PIL.PngImagePlugin.PngImageFile image mode=RGB size=178x136>"
            ],
            "image/png": "[encoded data removed]"
          },
          "metadata": {},
          "execution_count": 32
        }
      ]
    },
    {
      "cell_type": "code",
      "source": [
        "img = Image. open(\"../input/malaria-dataset/Dataset/Train/Uninfected/C1_thinF_IMG_20150604_104722_cell_191.png\")\n",
        "img"
      ],
      "metadata": {
        "execution": {
          "iopub.status.busy": "2022-04-23T07:00:14.018072Z",
          "iopub.execute_input": "2022-04-23T07:00:14.018249Z",
          "iopub.status.idle": "2022-04-23T07:00:14.04005Z",
          "shell.execute_reply.started": "2022-04-23T07:00:14.018227Z",
          "shell.execute_reply": "2022-04-23T07:00:14.039395Z"
        },
        "trusted": true,
        "id": "84-TIdJR5mqM",
        "colab": {
          "base_uri": "https://localhost:8080/",
          "height": 147
        },
        "outputId": "3e33c7be-4f9b-47f0-9c57-59e5cc18aafd"
      },
      "execution_count": 33,
      "outputs": [
        {
          "output_type": "execute_result",
          "data": {
            "text/plain": [
              "<PIL.PngImagePlugin.PngImageFile image mode=RGB size=136x130>"
            ],
            "image/png": "[encoded data removed]"
          },
          "metadata": {},
          "execution_count": 33
        }
      ]
    },
    {
      "cell_type": "code",
      "source": [
        "img = Image. open(\"../input/malaria-dataset/Dataset/Train/Uninfected/C1_thinF_IMG_20150604_104722_cell_191.png\")\n",
        "img"
      ],
      "metadata": {
        "execution": {
          "iopub.status.busy": "2022-04-23T07:00:14.042507Z",
          "iopub.execute_input": "2022-04-23T07:00:14.042709Z",
          "iopub.status.idle": "2022-04-23T07:00:14.058615Z",
          "shell.execute_reply.started": "2022-04-23T07:00:14.042685Z",
          "shell.execute_reply": "2022-04-23T07:00:14.058036Z"
        },
        "trusted": true,
        "id": "bJRpLBkW5mqM",
        "colab": {
          "base_uri": "https://localhost:8080/",
          "height": 147
        },
        "outputId": "09604be0-2879-4b91-b7f1-496078b48d5b"
      },
      "execution_count": 34,
      "outputs": [
        {
          "output_type": "execute_result",
          "data": {
            "text/plain": [
              "<PIL.PngImagePlugin.PngImageFile image mode=RGB size=136x130>"
            ],
            "image/png": "[encoded data removed]"
          },
          "metadata": {},
          "execution_count": 34
        }
      ]
    },
    {
      "cell_type": "code",
      "source": [
        "# our layers - you can add more if you want\n",
        "x = Flatten()(mobilnet.output)"
      ],
      "metadata": {
        "execution": {
          "iopub.status.busy": "2022-04-23T07:00:14.060283Z",
          "iopub.execute_input": "2022-04-23T07:00:14.060695Z",
          "iopub.status.idle": "2022-04-23T07:00:14.069924Z",
          "shell.execute_reply.started": "2022-04-23T07:00:14.060662Z",
          "shell.execute_reply": "2022-04-23T07:00:14.069116Z"
        },
        "trusted": true,
        "id": "n-u4bnHR5mqM"
      },
      "execution_count": 35,
      "outputs": []
    },
    {
      "cell_type": "code",
      "source": [
        "prediction = Dense(len(folders), activation='softmax')(x)\n",
        "\n",
        "# create a model object\n",
        "model = Model(inputs=mobilnet.input, outputs=prediction)"
      ],
      "metadata": {
        "execution": {
          "iopub.status.busy": "2022-04-23T07:00:14.071251Z",
          "iopub.execute_input": "2022-04-23T07:00:14.071708Z",
          "iopub.status.idle": "2022-04-23T07:00:14.089861Z",
          "shell.execute_reply.started": "2022-04-23T07:00:14.071674Z",
          "shell.execute_reply": "2022-04-23T07:00:14.089154Z"
        },
        "trusted": true,
        "id": "5YzOBMVY5mqM"
      },
      "execution_count": 36,
      "outputs": []
    },
    {
      "cell_type": "code",
      "source": [
        "# # view the structure of the model\n",
        "# model.summary()"
      ],
      "metadata": {
        "execution": {
          "iopub.status.busy": "2022-04-23T07:00:14.091308Z",
          "iopub.execute_input": "2022-04-23T07:00:14.091542Z",
          "iopub.status.idle": "2022-04-23T07:00:14.096507Z",
          "shell.execute_reply.started": "2022-04-23T07:00:14.091495Z",
          "shell.execute_reply": "2022-04-23T07:00:14.095494Z"
        },
        "trusted": true,
        "id": "qdT762S35mqN"
      },
      "execution_count": 37,
      "outputs": []
    },
    {
      "cell_type": "code",
      "source": [
        "# Create Model from model using CNN\n",
        "# This is custom model using CNN we can use this model instead of VGG9 we if we want\n",
        "# Accuracy might differ in both the model.\n",
        "\n",
        "\n",
        "# model=Sequential()\n",
        "# model.add(Conv2D(filters=16,kernel_size=2,padding=\"same\",activation=\"relu\",input_shape=(224,224,3)))\n",
        "# model.add(MaxPooling2D(pool_size=2))\n",
        "# model.add(Conv2D(filters=32,kernel_size=2,padding=\"same\",activation =\"relu\"))\n",
        "# model.add(MaxPooling2D(pool_size=2))\n",
        "# model.add(Conv2D(filters=64,kernel_size=2,padding=\"same\",activation=\"relu\"))\n",
        "# model.add(MaxPooling2D(pool_size=2))\n",
        "# model.add(Flatten())\n",
        "# model.add(Dense(500,activation=\"relu\"))\n",
        "# model.add(Dense(2,activation=\"softmax\"))\n",
        "# model.summary()"
      ],
      "metadata": {
        "execution": {
          "iopub.status.busy": "2022-04-23T07:00:14.099612Z",
          "iopub.execute_input": "2022-04-23T07:00:14.099995Z",
          "iopub.status.idle": "2022-04-23T07:00:14.103676Z",
          "shell.execute_reply.started": "2022-04-23T07:00:14.099965Z",
          "shell.execute_reply": "2022-04-23T07:00:14.102849Z"
        },
        "trusted": true,
        "id": "9UoITCWL5mqN"
      },
      "execution_count": 38,
      "outputs": []
    },
    {
      "cell_type": "code",
      "source": [
        "# tell the model what cost and optimization method to use\n",
        "model.compile(\n",
        "  loss='categorical_crossentropy',\n",
        "  optimizer='adam',\n",
        "  metrics=['accuracy']\n",
        ")"
      ],
      "metadata": {
        "execution": {
          "iopub.status.busy": "2022-04-23T07:00:14.104986Z",
          "iopub.execute_input": "2022-04-23T07:00:14.105742Z",
          "iopub.status.idle": "2022-04-23T07:00:14.118757Z",
          "shell.execute_reply.started": "2022-04-23T07:00:14.105706Z",
          "shell.execute_reply": "2022-04-23T07:00:14.117989Z"
        },
        "trusted": true,
        "id": "L_MaNg1V5mqN"
      },
      "execution_count": 39,
      "outputs": []
    },
    {
      "cell_type": "code",
      "source": [
        "# Use the Image Data Generator to import the images from the dataset\n",
        "from tensorflow.keras.preprocessing.image import ImageDataGenerator\n",
        "\n",
        "train_datagen = ImageDataGenerator(rescale = 1./255,\n",
        "                                   shear_range = 0.2,\n",
        "                                   zoom_range = 0.2,\n",
        "                                   horizontal_flip = True)\n",
        "\n",
        "test_datagen = ImageDataGenerator(rescale = 1./255)"
      ],
      "metadata": {
        "execution": {
          "iopub.status.busy": "2022-04-23T07:00:14.120082Z",
          "iopub.execute_input": "2022-04-23T07:00:14.120779Z",
          "iopub.status.idle": "2022-04-23T07:00:14.126274Z",
          "shell.execute_reply.started": "2022-04-23T07:00:14.120743Z",
          "shell.execute_reply": "2022-04-23T07:00:14.125566Z"
        },
        "trusted": true,
        "id": "XY0pcUF45mqN"
      },
      "execution_count": 40,
      "outputs": []
    },
    {
      "cell_type": "code",
      "source": [
        "# Make sure you provide the same target size as initialied for the image size\n",
        "training_set = train_datagen.flow_from_directory('../input/cell-images-for-detecting-malaria/cell_images/cell_images',\n",
        "                                                 target_size = (224, 224),\n",
        "                                                 batch_size = 32,\n",
        "                                                 class_mode = 'categorical')"
      ],
      "metadata": {
        "execution": {
          "iopub.status.busy": "2022-04-23T07:00:14.127463Z",
          "iopub.execute_input": "2022-04-23T07:00:14.127814Z",
          "iopub.status.idle": "2022-04-23T07:00:32.254074Z",
          "shell.execute_reply.started": "2022-04-23T07:00:14.12778Z",
          "shell.execute_reply": "2022-04-23T07:00:32.253325Z"
        },
        "trusted": true,
        "id": "xb1ipkec5mqO",
        "colab": {
          "base_uri": "https://localhost:8080/"
        },
        "outputId": "4dbcdcee-d1e2-4b7a-d795-23730c986257"
      },
      "execution_count": 41,
      "outputs": [
        {
          "output_type": "stream",
          "name": "stdout",
          "text": [
            "Found 27558 images belonging to 2 classes.\n"
          ]
        }
      ]
    },
    {
      "cell_type": "code",
      "source": [
        "test_set = test_datagen.flow_from_directory('../input/malaria-dataset/Dataset/Test',\n",
        "                                            target_size = (224, 224),\n",
        "                                            batch_size = 32,\n",
        "                                            class_mode = 'categorical')"
      ],
      "metadata": {
        "execution": {
          "iopub.status.busy": "2022-04-23T07:00:32.257306Z",
          "iopub.execute_input": "2022-04-23T07:00:32.257951Z",
          "iopub.status.idle": "2022-04-23T07:00:32.391138Z",
          "shell.execute_reply.started": "2022-04-23T07:00:32.257906Z",
          "shell.execute_reply": "2022-04-23T07:00:32.390412Z"
        },
        "trusted": true,
        "id": "hkDp0ZWW5mqO",
        "colab": {
          "base_uri": "https://localhost:8080/"
        },
        "outputId": "ea56037e-20a3-4cb5-81f6-9c152cbe8f50"
      },
      "execution_count": 42,
      "outputs": [
        {
          "output_type": "stream",
          "name": "stdout",
          "text": [
            "Found 134 images belonging to 2 classes.\n"
          ]
        }
      ]
    },
    {
      "cell_type": "code",
      "source": [
        "# fit the model\n",
        "# Run the cell. It will take some time to execute\n",
        "r = model.fit(\n",
        "  training_set,\n",
        "  validation_data=test_set,\n",
        "  epochs=10,\n",
        "  steps_per_epoch=20,\n",
        "  validation_steps=len(test_set)\n",
        ")"
      ],
      "metadata": {
        "execution": {
          "iopub.status.busy": "2022-04-23T07:00:32.394473Z",
          "iopub.execute_input": "2022-04-23T07:00:32.395388Z",
          "iopub.status.idle": "2022-04-23T07:08:24.291119Z",
          "shell.execute_reply.started": "2022-04-23T07:00:32.395238Z",
          "shell.execute_reply": "2022-04-23T07:08:24.287579Z"
        },
        "trusted": true,
        "id": "nZ13ip0k5mqO",
        "colab": {
          "base_uri": "https://localhost:8080/"
        },
        "outputId": "438df144-e4d6-4bc0-b4ae-cc5ad6fea894"
      },
      "execution_count": 43,
      "outputs": [
        {
          "output_type": "stream",
          "name": "stdout",
          "text": [
            "Epoch 1/10\n",
            "20/20 [==============================] - 16s 729ms/step - loss: 1.3010 - accuracy: 0.5312 - val_loss: 0.9089 - val_accuracy: 0.4552\n",
            "Epoch 2/10\n",
            "20/20 [==============================] - 11s 534ms/step - loss: 0.5919 - accuracy: 0.7094 - val_loss: 0.4932 - val_accuracy: 0.7388\n",
            "Epoch 3/10\n",
            "20/20 [==============================] - 12s 569ms/step - loss: 0.4883 - accuracy: 0.7953 - val_loss: 0.4561 - val_accuracy: 0.7985\n",
            "Epoch 4/10\n",
            "20/20 [==============================] - 11s 560ms/step - loss: 0.4886 - accuracy: 0.7656 - val_loss: 0.5607 - val_accuracy: 0.6791\n",
            "Epoch 5/10\n",
            "20/20 [==============================] - 11s 534ms/step - loss: 0.4625 - accuracy: 0.7859 - val_loss: 0.4261 - val_accuracy: 0.8134\n",
            "Epoch 6/10\n",
            "20/20 [==============================] - 9s 426ms/step - loss: 0.4212 - accuracy: 0.7866 - val_loss: 0.4847 - val_accuracy: 0.7537\n",
            "Epoch 7/10\n",
            "20/20 [==============================] - 9s 447ms/step - loss: 0.4120 - accuracy: 0.8188 - val_loss: 0.3312 - val_accuracy: 0.8507\n",
            "Epoch 8/10\n",
            "20/20 [==============================] - 10s 507ms/step - loss: 0.4698 - accuracy: 0.7828 - val_loss: 0.9622 - val_accuracy: 0.6119\n",
            "Epoch 9/10\n",
            "20/20 [==============================] - 10s 498ms/step - loss: 0.4892 - accuracy: 0.7828 - val_loss: 0.5718 - val_accuracy: 0.7090\n",
            "Epoch 10/10\n",
            "20/20 [==============================] - 10s 494ms/step - loss: 0.4808 - accuracy: 0.7828 - val_loss: 0.3167 - val_accuracy: 0.8507\n"
          ]
        }
      ]
    },
    {
      "cell_type": "code",
      "source": [
        "training_set.class_indices"
      ],
      "metadata": {
        "execution": {
          "iopub.status.busy": "2022-04-23T07:08:24.293724Z",
          "iopub.status.idle": "2022-04-23T07:08:24.294163Z",
          "shell.execute_reply.started": "2022-04-23T07:08:24.293954Z",
          "shell.execute_reply": "2022-04-23T07:08:24.293976Z"
        },
        "trusted": true,
        "id": "klLTsUvf5mqO",
        "colab": {
          "base_uri": "https://localhost:8080/"
        },
        "outputId": "e42b9d1a-650e-44ac-c937-5a09a5db8f55"
      },
      "execution_count": 44,
      "outputs": [
        {
          "output_type": "execute_result",
          "data": {
            "text/plain": [
              "{'Parasitized': 0, 'Uninfected': 1}"
            ]
          },
          "metadata": {},
          "execution_count": 44
        }
      ]
    },
    {
      "cell_type": "code",
      "source": [
        "# plot the loss\n",
        "plt.plot(r.history['loss'], label='train loss')\n",
        "plt.plot(r.history['val_loss'], label='val loss')\n",
        "plt.legend()\n",
        "plt.show()\n",
        "plt.savefig('LossVal_loss')\n",
        "\n",
        "# plot the accuracy\n",
        "plt.plot(r.history['accuracy'], label='train acc')\n",
        "plt.plot(r.history['val_accuracy'], label='val acc')\n",
        "plt.legend()\n",
        "plt.show()\n",
        "plt.savefig('AccVal_acc')"
      ],
      "metadata": {
        "execution": {
          "iopub.status.busy": "2022-04-23T07:08:24.299117Z",
          "iopub.status.idle": "2022-04-23T07:08:24.299479Z",
          "shell.execute_reply.started": "2022-04-23T07:08:24.299282Z",
          "shell.execute_reply": "2022-04-23T07:08:24.299301Z"
        },
        "trusted": true,
        "id": "NUWcREWv5mqO",
        "colab": {
          "base_uri": "https://localhost:8080/",
          "height": 860
        },
        "outputId": "d0aa6922-cdd7-4165-ad0c-4a066ef31ce0"
      },
      "execution_count": 45,
      "outputs": [
        {
          "output_type": "display_data",
          "data": {
            "text/plain": [
              "<Figure size 640x480 with 1 Axes>"
            ],
            "image/png": "[encoded data removed]"
          },
          "metadata": {}
        },
        {
          "output_type": "display_data",
          "data": {
            "text/plain": [
              "<Figure size 640x480 with 1 Axes>"
            ],
            "image/png": "[encoded data removed]"
          },
          "metadata": {}
        },
        {
          "output_type": "display_data",
          "data": {
            "text/plain": [
              "<Figure size 640x480 with 0 Axes>"
            ]
          },
          "metadata": {}
        }
      ]
    },
    {
      "cell_type": "code",
      "source": [
        "# saving our model as h5 file to we can use it later if we want\n",
        "\n",
        "# model.save('model_vgg19.h5')"
      ],
      "metadata": {
        "execution": {
          "iopub.status.busy": "2022-04-23T07:08:24.304045Z",
          "iopub.status.idle": "2022-04-23T07:08:24.304375Z",
          "shell.execute_reply.started": "2022-04-23T07:08:24.304214Z",
          "shell.execute_reply": "2022-04-23T07:08:24.304233Z"
        },
        "trusted": true,
        "id": "gQokGlaD5mqP"
      },
      "execution_count": 46,
      "outputs": []
    },
    {
      "cell_type": "code",
      "source": [
        "# import tensorflow as tf\n",
        "# tf.keras.utils.plot_model(\n",
        "#     model, to_file='model.png', show_shapes=True)"
      ],
      "metadata": {
        "execution": {
          "iopub.status.busy": "2022-04-23T07:08:24.305745Z",
          "iopub.status.idle": "2022-04-23T07:08:24.306384Z",
          "shell.execute_reply.started": "2022-04-23T07:08:24.30613Z",
          "shell.execute_reply": "2022-04-23T07:08:24.306154Z"
        },
        "trusted": true,
        "id": "2XwY4qVP5mqP"
      },
      "execution_count": 47,
      "outputs": []
    },
    {
      "cell_type": "markdown",
      "source": [
        "# Optional (Testing our Model)"
      ],
      "metadata": {
        "id": "iOQifsjg5mqP"
      }
    },
    {
      "cell_type": "code",
      "source": [
        "y_pred = model.predict(test_set)"
      ],
      "metadata": {
        "execution": {
          "iopub.status.busy": "2022-04-23T07:08:34.16742Z",
          "iopub.execute_input": "2022-04-23T07:08:34.167979Z",
          "iopub.status.idle": "2022-04-23T07:08:34.819009Z",
          "shell.execute_reply.started": "2022-04-23T07:08:34.16794Z",
          "shell.execute_reply": "2022-04-23T07:08:34.818288Z"
        },
        "trusted": true,
        "id": "kXYQFSaU5mqP",
        "colab": {
          "base_uri": "https://localhost:8080/"
        },
        "outputId": "2341506e-a612-4ea1-8ae0-cad00bf12b9d"
      },
      "execution_count": 48,
      "outputs": [
        {
          "output_type": "stream",
          "name": "stdout",
          "text": [
            "5/5 [==============================] - 1s 136ms/step\n"
          ]
        }
      ]
    },
    {
      "cell_type": "code",
      "source": [
        "# print(y_pred)"
      ],
      "metadata": {
        "execution": {
          "iopub.status.busy": "2022-04-23T07:08:36.826119Z",
          "iopub.execute_input": "2022-04-23T07:08:36.826379Z",
          "iopub.status.idle": "2022-04-23T07:08:36.829928Z",
          "shell.execute_reply.started": "2022-04-23T07:08:36.826351Z",
          "shell.execute_reply": "2022-04-23T07:08:36.829258Z"
        },
        "trusted": true,
        "id": "f3muT5n05mqQ"
      },
      "execution_count": 49,
      "outputs": []
    },
    {
      "cell_type": "code",
      "source": [
        "y_pred = np.argmax(y_pred, axis=1)"
      ],
      "metadata": {
        "execution": {
          "iopub.status.busy": "2022-04-23T07:08:37.186022Z",
          "iopub.execute_input": "2022-04-23T07:08:37.186271Z",
          "iopub.status.idle": "2022-04-23T07:08:37.191684Z",
          "shell.execute_reply.started": "2022-04-23T07:08:37.186244Z",
          "shell.execute_reply": "2022-04-23T07:08:37.189813Z"
        },
        "trusted": true,
        "id": "AskJ6I-25mqQ"
      },
      "execution_count": 50,
      "outputs": []
    },
    {
      "cell_type": "code",
      "source": [
        "y_pred"
      ],
      "metadata": {
        "execution": {
          "iopub.status.busy": "2022-04-23T07:08:40.167457Z",
          "iopub.execute_input": "2022-04-23T07:08:40.167727Z",
          "iopub.status.idle": "2022-04-23T07:08:40.176124Z",
          "shell.execute_reply.started": "2022-04-23T07:08:40.167699Z",
          "shell.execute_reply": "2022-04-23T07:08:40.175452Z"
        },
        "trusted": true,
        "id": "JV0rVcqg5mqQ",
        "colab": {
          "base_uri": "https://localhost:8080/"
        },
        "outputId": "e5a9a540-b8d8-4273-e10e-cc3f27d3dbf7"
      },
      "execution_count": 51,
      "outputs": [
        {
          "output_type": "execute_result",
          "data": {
            "text/plain": [
              "array([0, 0, 1, 1, 0, 0, 1, 0, 1, 0, 0, 0, 1, 0, 1, 0, 0, 0, 0, 0, 1, 0,\n",
              "       0, 1, 0, 0, 1, 0, 1, 0, 0, 0, 0, 0, 1, 0, 1, 0, 1, 1, 0, 0, 0, 0,\n",
              "       0, 1, 0, 0, 0, 1, 0, 0, 0, 0, 0, 0, 0, 0, 0, 0, 0, 1, 1, 0, 0, 1,\n",
              "       0, 0, 0, 1, 1, 1, 0, 1, 0, 1, 1, 1, 0, 0, 0, 0, 0, 0, 0, 0, 0, 0,\n",
              "       1, 0, 0, 1, 0, 1, 0, 0, 1, 1, 0, 1, 1, 0, 0, 0, 1, 0, 1, 0, 0, 0,\n",
              "       0, 0, 1, 0, 1, 0, 1, 0, 0, 0, 1, 1, 0, 1, 1, 1, 0, 1, 0, 1, 0, 0,\n",
              "       1, 1])"
            ]
          },
          "metadata": {},
          "execution_count": 51
        }
      ]
    },
    {
      "cell_type": "code",
      "source": [
        "# loading the model\n",
        "\n",
        "# model=load_model('./model_vgg19.h5')"
      ],
      "metadata": {
        "execution": {
          "iopub.status.busy": "2022-04-23T07:08:42.066675Z",
          "iopub.execute_input": "2022-04-23T07:08:42.067276Z",
          "iopub.status.idle": "2022-04-23T07:08:42.094433Z",
          "shell.execute_reply.started": "2022-04-23T07:08:42.067235Z",
          "shell.execute_reply": "2022-04-23T07:08:42.0934Z"
        },
        "trusted": true,
        "id": "5_i12TFX5mqQ"
      },
      "execution_count": 52,
      "outputs": []
    },
    {
      "cell_type": "code",
      "source": [
        "# Taking random image and will see what our model predicts.\n",
        "\n",
        "img=image.load_img('../input/malaria-dataset/Dataset/Test/Parasite/C39P4thinF_original_IMG_20150622_105803_cell_108.png',target_size=(224,224))\n",
        "img"
      ],
      "metadata": {
        "execution": {
          "iopub.status.busy": "2022-04-23T07:09:38.876174Z",
          "iopub.execute_input": "2022-04-23T07:09:38.876707Z",
          "iopub.status.idle": "2022-04-23T07:09:38.895259Z",
          "shell.execute_reply.started": "2022-04-23T07:09:38.87667Z",
          "shell.execute_reply": "2022-04-23T07:09:38.894641Z"
        },
        "trusted": true,
        "id": "PXpbExKM5mqQ",
        "colab": {
          "base_uri": "https://localhost:8080/",
          "height": 241
        },
        "outputId": "4ac9da2c-33b6-4f8b-f3e0-e33950680e4f"
      },
      "execution_count": 53,
      "outputs": [
        {
          "output_type": "execute_result",
          "data": {
            "text/plain": [
              "<PIL.Image.Image image mode=RGB size=224x224>"
            ],
            "image/png": "[encoded data removed]"
          },
          "metadata": {},
          "execution_count": 53
        }
      ]
    },
    {
      "cell_type": "code",
      "source": [
        "x=image.img_to_array(img)\n",
        "# print(x)"
      ],
      "metadata": {
        "execution": {
          "iopub.status.busy": "2022-04-23T07:09:39.306258Z",
          "iopub.execute_input": "2022-04-23T07:09:39.306546Z",
          "iopub.status.idle": "2022-04-23T07:09:39.31327Z",
          "shell.execute_reply.started": "2022-04-23T07:09:39.306495Z",
          "shell.execute_reply": "2022-04-23T07:09:39.312477Z"
        },
        "trusted": true,
        "id": "ZqvClzN_5mqR"
      },
      "execution_count": 54,
      "outputs": []
    },
    {
      "cell_type": "code",
      "source": [
        "x.shape"
      ],
      "metadata": {
        "execution": {
          "iopub.status.busy": "2022-04-23T07:09:39.711429Z",
          "iopub.execute_input": "2022-04-23T07:09:39.712129Z",
          "iopub.status.idle": "2022-04-23T07:09:39.717366Z",
          "shell.execute_reply.started": "2022-04-23T07:09:39.712091Z",
          "shell.execute_reply": "2022-04-23T07:09:39.71666Z"
        },
        "trusted": true,
        "id": "QYl0A-fb5mqR",
        "colab": {
          "base_uri": "https://localhost:8080/"
        },
        "outputId": "bbe5be38-29db-4e69-aad0-ecf83b1a8550"
      },
      "execution_count": 55,
      "outputs": [
        {
          "output_type": "execute_result",
          "data": {
            "text/plain": [
              "(224, 224, 3)"
            ]
          },
          "metadata": {},
          "execution_count": 55
        }
      ]
    },
    {
      "cell_type": "code",
      "source": [
        "x=x/255"
      ],
      "metadata": {
        "execution": {
          "iopub.status.busy": "2022-04-23T07:09:39.996007Z",
          "iopub.execute_input": "2022-04-23T07:09:39.996478Z",
          "iopub.status.idle": "2022-04-23T07:09:40.000488Z",
          "shell.execute_reply.started": "2022-04-23T07:09:39.996441Z",
          "shell.execute_reply": "2022-04-23T07:09:39.999369Z"
        },
        "trusted": true,
        "id": "YY0nlcEm5mqR"
      },
      "execution_count": 56,
      "outputs": []
    },
    {
      "cell_type": "code",
      "source": [
        "x=np.expand_dims(x,axis=0)\n",
        "img_data=preprocess_input(x)\n",
        "img_data.shape"
      ],
      "metadata": {
        "execution": {
          "iopub.status.busy": "2022-04-23T07:09:40.296596Z",
          "iopub.execute_input": "2022-04-23T07:09:40.297058Z",
          "iopub.status.idle": "2022-04-23T07:09:40.303575Z",
          "shell.execute_reply.started": "2022-04-23T07:09:40.297021Z",
          "shell.execute_reply": "2022-04-23T07:09:40.302874Z"
        },
        "trusted": true,
        "id": "I33Eiag45mqg",
        "colab": {
          "base_uri": "https://localhost:8080/"
        },
        "outputId": "4c807ce2-8926-4df6-b626-d1520f125466"
      },
      "execution_count": 57,
      "outputs": [
        {
          "output_type": "execute_result",
          "data": {
            "text/plain": [
              "(1, 224, 224, 3)"
            ]
          },
          "metadata": {},
          "execution_count": 57
        }
      ]
    },
    {
      "cell_type": "code",
      "source": [
        "model.predict(img_data)"
      ],
      "metadata": {
        "execution": {
          "iopub.status.busy": "2022-04-23T07:09:40.901284Z",
          "iopub.execute_input": "2022-04-23T07:09:40.901848Z",
          "iopub.status.idle": "2022-04-23T07:09:40.951684Z",
          "shell.execute_reply.started": "2022-04-23T07:09:40.901805Z",
          "shell.execute_reply": "2022-04-23T07:09:40.950893Z"
        },
        "trusted": true,
        "id": "U3tTjxFI5mqg",
        "colab": {
          "base_uri": "https://localhost:8080/"
        },
        "outputId": "68c9ed49-f882-46c3-8431-cc290aba6070"
      },
      "execution_count": 58,
      "outputs": [
        {
          "output_type": "stream",
          "name": "stdout",
          "text": [
            "1/1 [==============================] - 1s 1s/step\n"
          ]
        },
        {
          "output_type": "execute_result",
          "data": {
            "text/plain": [
              "array([[1.739878e-05, 9.999826e-01]], dtype=float32)"
            ]
          },
          "metadata": {},
          "execution_count": 58
        }
      ]
    },
    {
      "cell_type": "code",
      "source": [
        "a=np.argmax(model.predict(img_data), axis=1)"
      ],
      "metadata": {
        "execution": {
          "iopub.status.busy": "2022-04-23T07:09:41.516223Z",
          "iopub.execute_input": "2022-04-23T07:09:41.516839Z",
          "iopub.status.idle": "2022-04-23T07:09:41.562483Z",
          "shell.execute_reply.started": "2022-04-23T07:09:41.516797Z",
          "shell.execute_reply": "2022-04-23T07:09:41.561854Z"
        },
        "trusted": true,
        "id": "m-GIOB4r5mqh",
        "colab": {
          "base_uri": "https://localhost:8080/"
        },
        "outputId": "86ce7ea5-a58e-4471-f1b3-5c001ca73ca9"
      },
      "execution_count": 59,
      "outputs": [
        {
          "output_type": "stream",
          "name": "stdout",
          "text": [
            "1/1 [==============================] - 0s 18ms/step\n"
          ]
        }
      ]
    },
    {
      "cell_type": "code",
      "source": [
        "a"
      ],
      "metadata": {
        "execution": {
          "iopub.status.busy": "2022-04-23T07:09:41.826394Z",
          "iopub.execute_input": "2022-04-23T07:09:41.827112Z",
          "iopub.status.idle": "2022-04-23T07:09:41.832403Z",
          "shell.execute_reply.started": "2022-04-23T07:09:41.827072Z",
          "shell.execute_reply": "2022-04-23T07:09:41.831731Z"
        },
        "trusted": true,
        "id": "IPrwm64e5mqh",
        "colab": {
          "base_uri": "https://localhost:8080/"
        },
        "outputId": "fb56d78c-374d-4d62-82da-1ce0ec2e5e03"
      },
      "execution_count": 60,
      "outputs": [
        {
          "output_type": "execute_result",
          "data": {
            "text/plain": [
              "array([1])"
            ]
          },
          "metadata": {},
          "execution_count": 60
        }
      ]
    },
    {
      "cell_type": "code",
      "source": [
        "test_set.class_indices"
      ],
      "metadata": {
        "execution": {
          "iopub.status.busy": "2022-04-23T07:09:42.486233Z",
          "iopub.execute_input": "2022-04-23T07:09:42.486486Z",
          "iopub.status.idle": "2022-04-23T07:09:42.491399Z",
          "shell.execute_reply.started": "2022-04-23T07:09:42.486458Z",
          "shell.execute_reply": "2022-04-23T07:09:42.490757Z"
        },
        "trusted": true,
        "id": "vQpBhqq25mqh",
        "colab": {
          "base_uri": "https://localhost:8080/"
        },
        "outputId": "562ad01e-4ee0-4f4a-aac1-d8236c86452d"
      },
      "execution_count": 61,
      "outputs": [
        {
          "output_type": "execute_result",
          "data": {
            "text/plain": [
              "{'Parasite': 0, 'Uninfected': 1}"
            ]
          },
          "metadata": {},
          "execution_count": 61
        }
      ]
    },
    {
      "cell_type": "code",
      "source": [
        "# Where we will get to know what label our model has predicted\n",
        "# If label is 1 then it means Uninfected\n",
        "# If label is 0 then it means Infected\n",
        "\n",
        "if(a==1):\n",
        "    print(\"Uninfected\")\n",
        "else:\n",
        "    print(\"Infected\")"
      ],
      "metadata": {
        "execution": {
          "iopub.status.busy": "2022-04-23T07:09:43.086221Z",
          "iopub.execute_input": "2022-04-23T07:09:43.087252Z",
          "iopub.status.idle": "2022-04-23T07:09:43.092623Z",
          "shell.execute_reply.started": "2022-04-23T07:09:43.0872Z",
          "shell.execute_reply": "2022-04-23T07:09:43.091774Z"
        },
        "trusted": true,
        "id": "LmOsw7N35mqh",
        "colab": {
          "base_uri": "https://localhost:8080/"
        },
        "outputId": "14822377-6cc3-47b3-c429-77f326540b04"
      },
      "execution_count": 62,
      "outputs": [
        {
          "output_type": "stream",
          "name": "stdout",
          "text": [
            "Uninfected\n"
          ]
        }
      ]
    }
  ]
}